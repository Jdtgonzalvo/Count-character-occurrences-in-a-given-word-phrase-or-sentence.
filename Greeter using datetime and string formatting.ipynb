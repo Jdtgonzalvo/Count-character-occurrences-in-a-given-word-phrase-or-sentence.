{
 "cells": [
  {
   "cell_type": "code",
   "execution_count": 1,
   "metadata": {},
   "outputs": [],
   "source": [
    "# Import datetime \n",
    "from datetime import datetime\n",
    "import datetime as dt"
   ]
  },
  {
   "cell_type": "code",
   "execution_count": 2,
   "metadata": {},
   "outputs": [],
   "source": [
    "# Assign date to get_date\n",
    "get_date = datetime.now()"
   ]
  },
  {
   "cell_type": "code",
   "execution_count": 3,
   "metadata": {},
   "outputs": [],
   "source": [
    "dictionary = {\n",
    "    'morning':('Good morning','... time to work!'),\n",
    "    'afternoon':('Good afternoon','... It is already afternoon!'),\n",
    "    'evening':('Good evening','... Do you have plans this evening?'),\n",
    "    'night':('Good night','... time to sleep!')\n",
    "}\n",
    "\n",
    "#morning\n",
    "mornStart = dt.time(6, 0, 1)\n",
    "mornEnd = dt.time(12, 0, 0)\n",
    "#afternoon\n",
    "aftStart = dt.time(12, 0, 1)\n",
    "aftEnd = dt.time(18, 0, 0)\n",
    "#evening\n",
    "eveStart = dt.time(18, 0, 1)\n",
    "eveEnd = dt.time(23, 0, 59)\n",
    "#night\n",
    "nightStart = dt.time(0, 0, 0)\n",
    "nightEnd = dt.time(6, 0, 0)"
   ]
  },
  {
   "cell_type": "code",
   "execution_count": 4,
   "metadata": {},
   "outputs": [],
   "source": [
    "time_now = get_date.time()\n",
    "\n",
    "if time_now>=mornStart and time_now<mornEnd:\n",
    "    greetings = ('morning')\n",
    "elif time_now>=aftStart and time_now<aftEnd:\n",
    "    greetings = ('afternoon')\n",
    "elif time_now>=eveStart and time_now<=eveEnd:\n",
    "    greetings = ('evening')\n",
    "elif time_now>=nightStart and time_now<nightEnd:\n",
    "    greetings = ('night')"
   ]
  },
  {
   "cell_type": "code",
   "execution_count": 5,
   "metadata": {},
   "outputs": [
    {
     "name": "stdout",
     "output_type": "stream",
     "text": [
      "Good night. Today is May 07, 2021. It's 00:15 ... time to sleep!\n"
     ]
    }
   ],
   "source": [
    "# Add named placeholders with format specifiers\n",
    "message = \"{greet[0]}. Today is {today:%B %d, %Y}. It's {today:%H:%M} {greet[1]}\"\n",
    "\n",
    "# Format date\n",
    "print(message.format(today=get_date,greet= dictionary[greetings]))"
   ]
  },
  {
   "cell_type": "code",
   "execution_count": null,
   "metadata": {},
   "outputs": [],
   "source": []
  }
 ],
 "metadata": {
  "kernelspec": {
   "display_name": "Python 3",
   "language": "python",
   "name": "python3"
  },
  "language_info": {
   "codemirror_mode": {
    "name": "ipython",
    "version": 3
   },
   "file_extension": ".py",
   "mimetype": "text/x-python",
   "name": "python",
   "nbconvert_exporter": "python",
   "pygments_lexer": "ipython3",
   "version": "3.8.8"
  }
 },
 "nbformat": 4,
 "nbformat_minor": 4
}
