{
 "cells": [
  {
   "cell_type": "code",
   "execution_count": 9,
   "id": "85533b21",
   "metadata": {},
   "outputs": [],
   "source": [
    "contents = \"\"\"Lawrence closed his eyes, listening to the quiet lap lap of water against the old buildings, the drip drip from the gondolier’s oar. Somewhere in the distance a baby was crying, but it was almost silent on the narrowest of narrow canals down which they now proceeded.\n",
    "There’d been no problem getting a gondola ride. For the second day, a thick white mist hung in the air over the city, and at the gondola station at San Moisè the vessels had loomed out of the fog like Viking ships. A man in a pink T-shirt with horizontal red stripes, and a body-warmer had appeared from nowhere. “You wanna ride, signor e signora? Is foggy. I give you special price of sixty euros!”\n",
    "Lawrence was surprised when Melissa had showed enthusiasm. ”\"\"\""
   ]
  },
  {
   "cell_type": "code",
   "execution_count": 10,
   "id": "524f5be8",
   "metadata": {},
   "outputs": [
    {
     "name": "stdout",
     "output_type": "stream",
     "text": [
      "[(128, ' '), (65, 'e'), (47, 'a'), (46, 'o'), (46, 'i'), (41, 't'), (41, 'n'), (40, 's'), (37, 'r'), (32, 'h'), (28, 'd'), (19, 'w'), (19, 'l'), (17, 'g'), (14, 'p'), (13, 'c'), (10, 'y'), (10, 'u'), (10, 'm'), (8, 'f'), (7, 'b'), (7, '.'), (7, ','), (4, 'k'), (3, 'v'), (2, '”'), (2, '’'), (2, 'T'), (2, 'S'), (2, 'M'), (2, 'L'), (2, 'I'), (2, '-'), (2, '\\n'), (1, '“'), (1, 'è'), (1, 'z'), (1, 'x'), (1, 'q'), (1, 'Y'), (1, 'V'), (1, 'F'), (1, 'A'), (1, '?'), (1, '!')]\n"
     ]
    },
    {
     "data": {
      "image/png": "[encoded data removed]",
      "text/plain": [
       "<Figure size 432x288 with 1 Axes>"
      ]
     },
     "metadata": {
      "needs_background": "light"
     },
     "output_type": "display_data"
    }
   ],
   "source": [
    "import matplotlib.pyplot as plt\n",
    "\n",
    "inside = dict()\n",
    "for characters in contents:\n",
    "        inside[characters]=inside.get(characters,0) + 1\n",
    "\n",
    "templist = sorted([(key,value) for (value,key) in inside.items()],reverse=True)\n",
    "print(templist)\n",
    "templist = dict(templist[:5])\n",
    "\n",
    "# labels = [x[1] for x in templist]\n",
    "# values = [x[0] for x in templist]\n",
    "#prints the result\n",
    "plt.bar(templist.values(),templist.keys())\n",
    "plt.show()"
   ]
  },
  {
   "cell_type": "code",
   "execution_count": null,
   "id": "cb18ed6d",
   "metadata": {},
   "outputs": [],
   "source": []
  }
 ],
 "metadata": {
  "kernelspec": {
   "display_name": "Python 3",
   "language": "python",
   "name": "python3"
  },
  "language_info": {
   "codemirror_mode": {
    "name": "ipython",
    "version": 3
   },
   "file_extension": ".py",
   "mimetype": "text/x-python",
   "name": "python",
   "nbconvert_exporter": "python",
   "pygments_lexer": "ipython3",
   "version": "3.8.8"
  }
 },
 "nbformat": 4,
 "nbformat_minor": 5
}
